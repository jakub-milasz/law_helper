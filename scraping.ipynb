{
 "cells": [
  {
   "cell_type": "code",
   "execution_count": 3,
   "id": "0915b3eb-d54c-4dcd-b4f0-41faf7de95c6",
   "metadata": {
    "tags": []
   },
   "outputs": [],
   "source": [
    "from selenium import webdriver\n",
    "from selenium.webdriver.common.by import By\n",
    "from selenium.webdriver.chrome.service import Service\n",
    "import pandas as pd\n",
    "import time"
   ]
  },
  {
   "cell_type": "code",
   "execution_count": 4,
   "id": "1893a69d-9b5a-4aa3-aee6-f1f082d304cb",
   "metadata": {
    "tags": []
   },
   "outputs": [],
   "source": [
    "path = r\"C:\\Users\\jakub\\Downloads\\chromedriver-win64\\chromedriver.exe\"\n",
    "service = Service(path)\n",
    "driver = webdriver.Chrome(service=service)\n",
    "driver.get(\"https://arslege.pl/kodeks-karny/k1/s193/\")\n",
    "time.sleep(5)\n",
    "content = driver.find_elements(By.CLASS_NAME, \"art_tresc\")\n",
    "header = driver.find_elements(By.CLASS_NAME, \"art_indeks\")\n",
    "contents = [c.text for c in content]\n",
    "headers = [h.text for h in header]\n",
    "driver.quit()"
   ]
  },
  {
   "cell_type": "code",
   "execution_count": 7,
   "id": "854f14f6-4a0e-431d-b4a6-ab04e100605d",
   "metadata": {
    "tags": []
   },
   "outputs": [],
   "source": [
    "path = r\"C:\\Users\\jakub\\Downloads\\chromedriver-win64\\chromedriver.exe\"\n",
    "service = Service(path)\n",
    "driver = webdriver.Chrome(service=service)\n",
    "driver.get(\"https://arslege.pl/kodeks-wykroczen/k11/s446/\")\n",
    "time.sleep(5)\n",
    "content_2 = driver.find_elements(By.CLASS_NAME, \"art_tresc\")\n",
    "header_2 = driver.find_elements(By.CLASS_NAME, \"art_indeks\")\n",
    "contents_2 = [c.text for c in content_2]\n",
    "headers_2 = [h.text for h in header_2]\n",
    "driver.quit()"
   ]
  },
  {
   "cell_type": "code",
   "execution_count": 18,
   "id": "d80b42a4-3fde-4305-a4bb-ace856fe5a26",
   "metadata": {
    "tags": []
   },
   "outputs": [],
   "source": [
    "dictionary = {\"Headers\": headers, \"Contents\": contents}"
   ]
  },
  {
   "cell_type": "code",
   "execution_count": 20,
   "id": "52437659-fa9f-4ebe-bbb0-2d7bd01b57f9",
   "metadata": {
    "tags": []
   },
   "outputs": [],
   "source": [
    "dataset = pd.DataFrame(data = dictionary)"
   ]
  },
  {
   "cell_type": "code",
   "execution_count": 22,
   "id": "1b85c711-c80b-4daf-a059-6e7f08a6bfd6",
   "metadata": {
    "tags": []
   },
   "outputs": [],
   "source": [
    "dataset.to_csv('db.csv', sep=';', encoding='utf-8-sig', index=False)"
   ]
  }
 ],
 "metadata": {
  "kernelspec": {
   "display_name": "Python 3 (ipykernel)",
   "language": "python",
   "name": "python3"
  },
  "language_info": {
   "codemirror_mode": {
    "name": "ipython",
    "version": 3
   },
   "file_extension": ".py",
   "mimetype": "text/x-python",
   "name": "python",
   "nbconvert_exporter": "python",
   "pygments_lexer": "ipython3",
   "version": "3.11.5"
  }
 },
 "nbformat": 4,
 "nbformat_minor": 5
}

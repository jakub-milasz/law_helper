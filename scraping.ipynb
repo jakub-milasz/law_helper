{
 "cells": [
  {
   "cell_type": "code",
   "execution_count": 1,
   "id": "0915b3eb-d54c-4dcd-b4f0-41faf7de95c6",
   "metadata": {
    "tags": []
   },
   "outputs": [],
   "source": [
    "from selenium import webdriver\n",
    "from selenium.webdriver.common.by import By\n",
    "from selenium.webdriver.chrome.service import Service\n",
    "import pandas as pd\n",
    "import time"
   ]
  },
  {
   "cell_type": "code",
   "execution_count": 2,
   "id": "1893a69d-9b5a-4aa3-aee6-f1f082d304cb",
   "metadata": {
    "tags": []
   },
   "outputs": [],
   "source": [
    "path = r\"C:\\Users\\jakub\\Downloads\\chromedriver-win64\\chromedriver.exe\"\n",
    "service = Service(path)\n",
    "driver = webdriver.Chrome(service=service)\n",
    "driver.get(\"https://arslege.pl/kodeks-karny/k1/s193/\")\n",
    "time.sleep(5)\n",
    "content = driver.find_elements(By.CLASS_NAME, \"art_tresc\")\n",
    "header = driver.find_elements(By.CLASS_NAME, \"art_indeks\")\n",
    "contents = [c.text for c in content]\n",
    "headers = [h.text for h in header]\n",
    "driver.quit()"
   ]
  },
  {
   "cell_type": "code",
   "execution_count": 3,
   "id": "854f14f6-4a0e-431d-b4a6-ab04e100605d",
   "metadata": {
    "tags": []
   },
   "outputs": [],
   "source": [
    "path = r\"C:\\Users\\jakub\\Downloads\\chromedriver-win64\\chromedriver.exe\"\n",
    "service = Service(path)\n",
    "driver = webdriver.Chrome(service=service)\n",
    "driver.get(\"https://arslege.pl/kodeks-wykroczen/k11/s446/\")\n",
    "time.sleep(5)\n",
    "content_2 = driver.find_elements(By.CLASS_NAME, \"art_tresc\")\n",
    "header_2 = driver.find_elements(By.CLASS_NAME, \"art_indeks\")\n",
    "contents_2 = [c.text for c in content_2]\n",
    "headers_2 = [h.text for h in header_2]\n",
    "driver.quit()"
   ]
  },
  {
   "cell_type": "code",
   "execution_count": 4,
   "id": "21fdf500-3277-4cf7-b6c3-8418446e45c4",
   "metadata": {
    "tags": []
   },
   "outputs": [
    {
     "data": {
      "text/plain": [
       "255"
      ]
     },
     "execution_count": 4,
     "metadata": {},
     "output_type": "execute_result"
    }
   ],
   "source": [
    "len(contents)"
   ]
  },
  {
   "cell_type": "code",
   "execution_count": 5,
   "id": "418718db-a262-4f77-bd38-22692f5ed154",
   "metadata": {
    "tags": []
   },
   "outputs": [
    {
     "data": {
      "text/plain": [
       "153"
      ]
     },
     "execution_count": 5,
     "metadata": {},
     "output_type": "execute_result"
    }
   ],
   "source": [
    "len(contents_2)"
   ]
  },
  {
   "cell_type": "code",
   "execution_count": 6,
   "id": "5daa5790-1827-464d-9dfe-c7c167e61628",
   "metadata": {
    "tags": []
   },
   "outputs": [],
   "source": [
    "typ = [\"kodeks karny\"] * len(contents)\n",
    "typ_2 = [\"kodeks wykroczeń\"] * len(contents_2)"
   ]
  },
  {
   "cell_type": "code",
   "execution_count": 8,
   "id": "ec3cf9ed-582e-48d2-abbd-a14533322694",
   "metadata": {
    "tags": []
   },
   "outputs": [],
   "source": [
    "headers.extend(headers_2)\n",
    "contents.extend(contents_2)\n",
    "typ.extend(typ_2)"
   ]
  },
  {
   "cell_type": "code",
   "execution_count": 9,
   "id": "d80b42a4-3fde-4305-a4bb-ace856fe5a26",
   "metadata": {
    "tags": []
   },
   "outputs": [],
   "source": [
    "dictionary = {\"Nagłówki\": headers, \"Treść\": contents, \"Rodzaj\": typ}"
   ]
  },
  {
   "cell_type": "code",
   "execution_count": 10,
   "id": "52437659-fa9f-4ebe-bbb0-2d7bd01b57f9",
   "metadata": {
    "tags": []
   },
   "outputs": [],
   "source": [
    "dataset = pd.DataFrame(data = dictionary)"
   ]
  },
  {
   "cell_type": "code",
   "execution_count": 12,
   "id": "e8590914-3f05-4503-a49c-559da4c661b2",
   "metadata": {
    "tags": []
   },
   "outputs": [
    {
     "data": {
      "text/html": [
       "<div>\n",
       "<style scoped>\n",
       "    .dataframe tbody tr th:only-of-type {\n",
       "        vertical-align: middle;\n",
       "    }\n",
       "\n",
       "    .dataframe tbody tr th {\n",
       "        vertical-align: top;\n",
       "    }\n",
       "\n",
       "    .dataframe thead th {\n",
       "        text-align: right;\n",
       "    }\n",
       "</style>\n",
       "<table border=\"1\" class=\"dataframe\">\n",
       "  <thead>\n",
       "    <tr style=\"text-align: right;\">\n",
       "      <th></th>\n",
       "      <th>Nagłówki</th>\n",
       "      <th>Treść</th>\n",
       "      <th>Rodzaj</th>\n",
       "    </tr>\n",
       "  </thead>\n",
       "  <tbody>\n",
       "    <tr>\n",
       "      <th>0</th>\n",
       "      <td>Art. 117. Wojna napastnicza</td>\n",
       "      <td>§ 1. Kto wszczyna lub prowadzi wojnę napastnic...</td>\n",
       "      <td>kodeks karny</td>\n",
       "    </tr>\n",
       "    <tr>\n",
       "      <th>1</th>\n",
       "      <td>Art. 118. Ludobójstwo</td>\n",
       "      <td>§ 1. Kto, w celu wyniszczenia w całości albo w...</td>\n",
       "      <td>kodeks karny</td>\n",
       "    </tr>\n",
       "    <tr>\n",
       "      <th>2</th>\n",
       "      <td>Art. 118a. Udział w masowym zamachu</td>\n",
       "      <td>§ 1. Kto, biorąc udział w masowym zamachu lub ...</td>\n",
       "      <td>kodeks karny</td>\n",
       "    </tr>\n",
       "    <tr>\n",
       "      <th>3</th>\n",
       "      <td>Art. 119. Dyskryminacja</td>\n",
       "      <td>§ 1. Kto stosuje przemoc lub groźbę bezprawną ...</td>\n",
       "      <td>kodeks karny</td>\n",
       "    </tr>\n",
       "    <tr>\n",
       "      <th>4</th>\n",
       "      <td>Art. 120. Stosowanie środków masowej zagłady</td>\n",
       "      <td>Kto stosuje środek masowej zagłady zakazany pr...</td>\n",
       "      <td>kodeks karny</td>\n",
       "    </tr>\n",
       "    <tr>\n",
       "      <th>...</th>\n",
       "      <td>...</td>\n",
       "      <td>...</td>\n",
       "      <td>...</td>\n",
       "    </tr>\n",
       "    <tr>\n",
       "      <th>403</th>\n",
       "      <td>Art. 162. Zanieczyszczanie gleby i wody albo z...</td>\n",
       "      <td>§ 1. Kto w lasach zanieczyszcza glebę lub wodę...</td>\n",
       "      <td>kodeks wykroczeń</td>\n",
       "    </tr>\n",
       "    <tr>\n",
       "      <th>404</th>\n",
       "      <td>Art. 163. Niszczenie grzybów lub grzybni</td>\n",
       "      <td>Kto w lesie rozgarnia ściółkę i niszczy grzyby...</td>\n",
       "      <td>kodeks wykroczeń</td>\n",
       "    </tr>\n",
       "    <tr>\n",
       "      <th>405</th>\n",
       "      <td>Art. 164. Wybieranie jaj, piskląt, niszczenie ...</td>\n",
       "      <td>Kto wybiera jaja lub pisklęta, niszczy lęgowis...</td>\n",
       "      <td>kodeks wykroczeń</td>\n",
       "    </tr>\n",
       "    <tr>\n",
       "      <th>406</th>\n",
       "      <td>Art. 165. Płoszenie, ściganie, chwytanie, rani...</td>\n",
       "      <td>Kto w lesie, w sposób złośliwy, płoszy albo śc...</td>\n",
       "      <td>kodeks wykroczeń</td>\n",
       "    </tr>\n",
       "    <tr>\n",
       "      <th>407</th>\n",
       "      <td>Art. 166. Puszczanie luzem psa w lesie</td>\n",
       "      <td>Kto w lesie puszcza luzem psa, poza czynnościa...</td>\n",
       "      <td>kodeks wykroczeń</td>\n",
       "    </tr>\n",
       "  </tbody>\n",
       "</table>\n",
       "<p>408 rows × 3 columns</p>\n",
       "</div>"
      ],
      "text/plain": [
       "                                              Nagłówki  \\\n",
       "0                          Art. 117. Wojna napastnicza   \n",
       "1                                Art. 118. Ludobójstwo   \n",
       "2                  Art. 118a. Udział w masowym zamachu   \n",
       "3                              Art. 119. Dyskryminacja   \n",
       "4         Art. 120. Stosowanie środków masowej zagłady   \n",
       "..                                                 ...   \n",
       "403  Art. 162. Zanieczyszczanie gleby i wody albo z...   \n",
       "404           Art. 163. Niszczenie grzybów lub grzybni   \n",
       "405  Art. 164. Wybieranie jaj, piskląt, niszczenie ...   \n",
       "406  Art. 165. Płoszenie, ściganie, chwytanie, rani...   \n",
       "407             Art. 166. Puszczanie luzem psa w lesie   \n",
       "\n",
       "                                                 Treść            Rodzaj  \n",
       "0    § 1. Kto wszczyna lub prowadzi wojnę napastnic...      kodeks karny  \n",
       "1    § 1. Kto, w celu wyniszczenia w całości albo w...      kodeks karny  \n",
       "2    § 1. Kto, biorąc udział w masowym zamachu lub ...      kodeks karny  \n",
       "3    § 1. Kto stosuje przemoc lub groźbę bezprawną ...      kodeks karny  \n",
       "4    Kto stosuje środek masowej zagłady zakazany pr...      kodeks karny  \n",
       "..                                                 ...               ...  \n",
       "403  § 1. Kto w lasach zanieczyszcza glebę lub wodę...  kodeks wykroczeń  \n",
       "404  Kto w lesie rozgarnia ściółkę i niszczy grzyby...  kodeks wykroczeń  \n",
       "405  Kto wybiera jaja lub pisklęta, niszczy lęgowis...  kodeks wykroczeń  \n",
       "406  Kto w lesie, w sposób złośliwy, płoszy albo śc...  kodeks wykroczeń  \n",
       "407  Kto w lesie puszcza luzem psa, poza czynnościa...  kodeks wykroczeń  \n",
       "\n",
       "[408 rows x 3 columns]"
      ]
     },
     "execution_count": 12,
     "metadata": {},
     "output_type": "execute_result"
    }
   ],
   "source": [
    "dataset"
   ]
  },
  {
   "cell_type": "code",
   "execution_count": 13,
   "id": "1b85c711-c80b-4daf-a059-6e7f08a6bfd6",
   "metadata": {
    "tags": []
   },
   "outputs": [],
   "source": [
    "dataset.to_csv('db.csv', sep=';', encoding='utf-8-sig', index=False)"
   ]
  }
 ],
 "metadata": {
  "kernelspec": {
   "display_name": "Python 3 (ipykernel)",
   "language": "python",
   "name": "python3"
  },
  "language_info": {
   "codemirror_mode": {
    "name": "ipython",
    "version": 3
   },
   "file_extension": ".py",
   "mimetype": "text/x-python",
   "name": "python",
   "nbconvert_exporter": "python",
   "pygments_lexer": "ipython3",
   "version": "3.11.5"
  }
 },
 "nbformat": 4,
 "nbformat_minor": 5
}

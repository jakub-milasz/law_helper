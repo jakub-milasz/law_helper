{
 "cells": [
  {
   "cell_type": "code",
   "execution_count": 1,
   "id": "0915b3eb-d54c-4dcd-b4f0-41faf7de95c6",
   "metadata": {
    "tags": []
   },
   "outputs": [],
   "source": [
    "from selenium import webdriver\n",
    "from selenium.webdriver.common.by import By\n",
    "from selenium.webdriver.chrome.service import Service\n",
    "import pandas as pd\n",
    "import time"
   ]
  },
  {
   "cell_type": "markdown",
   "id": "c76cb160-50a0-412f-9e56-2585910569d2",
   "metadata": {},
   "source": [
    "# Kodeks karny"
   ]
  },
  {
   "cell_type": "code",
   "execution_count": 63,
   "id": "1893a69d-9b5a-4aa3-aee6-f1f082d304cb",
   "metadata": {
    "tags": []
   },
   "outputs": [],
   "source": [
    "path = r\"C:\\Users\\jakub\\Downloads\\chromedriver-win64\\chromedriver.exe\"\n",
    "service = Service(path)\n",
    "driver = webdriver.Chrome(service=service)\n",
    "contents = []\n",
    "headers = []\n",
    "chapters = []\n",
    "\n",
    "for i in list(range(194, 216)) + [218]:\n",
    "    driver.get(f\"https://arslege.pl/kodeks-karny/k1/s{i}/\")\n",
    "    time.sleep(5)\n",
    "    content = driver.find_elements(By.CLASS_NAME, \"art_tresc\")\n",
    "    header = driver.find_elements(By.CLASS_NAME, \"art_indeks\")\n",
    "    heading2 = driver.find_elements(By.TAG_NAME, \"h2\")\n",
    "    chapter = [h2.text for h2 in heading2]\n",
    "    contents.extend([c.text for c in content])\n",
    "    headers.extend([h.text for h in header])\n",
    "    chapters.extend(chapter * len(header))\n",
    "driver.quit()"
   ]
  },
  {
   "cell_type": "code",
   "execution_count": 65,
   "id": "4caa5511-c1d6-4147-a019-047bcc96c96d",
   "metadata": {},
   "outputs": [
    {
     "data": {
      "text/plain": [
       "264"
      ]
     },
     "execution_count": 65,
     "metadata": {},
     "output_type": "execute_result"
    }
   ],
   "source": [
    "len(headers)"
   ]
  },
  {
   "cell_type": "markdown",
   "id": "145c7f11-35c7-4bb8-bb53-3c96dbf9e8e8",
   "metadata": {},
   "source": [
    "# Kodeks wykroczeń"
   ]
  },
  {
   "cell_type": "code",
   "execution_count": 106,
   "id": "854f14f6-4a0e-431d-b4a6-ab04e100605d",
   "metadata": {
    "tags": []
   },
   "outputs": [],
   "source": [
    "path = r\"C:\\Users\\jakub\\Downloads\\chromedriver-win64\\chromedriver.exe\"\n",
    "service = Service(path)\n",
    "driver = webdriver.Chrome(service=service)\n",
    "\n",
    "contents_2 = []\n",
    "headers_2 = []\n",
    "chapters_2 = []\n",
    "\n",
    "for i in list(range(447, 456)) + [15186, 457, 458]:\n",
    "    driver.get(f\"https://arslege.pl/kodeks-wykroczen/k11/s{i}/\")\n",
    "    time.sleep(5)\n",
    "    content_2 = driver.find_elements(By.CLASS_NAME, \"art_tresc\")\n",
    "    header_2 = driver.find_elements(By.CLASS_NAME, \"art_indeks\")\n",
    "    heading2_2 = driver.find_elements(By.TAG_NAME, \"h2\")\n",
    "    chapter_2 = [h2.text for h2 in heading2_2]\n",
    "    contents_2.extend(c.text for c in content_2)\n",
    "    headers_2.extend(h.text for h in header_2)\n",
    "    chapters_2.extend(chapter_2 * len(header_2))\n",
    "driver.quit()"
   ]
  },
  {
   "cell_type": "code",
   "execution_count": 109,
   "id": "57175578-9fbb-48cd-9b78-78c3b0a07896",
   "metadata": {},
   "outputs": [
    {
     "data": {
      "text/plain": [
       "154"
      ]
     },
     "execution_count": 109,
     "metadata": {},
     "output_type": "execute_result"
    }
   ],
   "source": [
    "len(chapters_2)"
   ]
  },
  {
   "cell_type": "code",
   "execution_count": 110,
   "id": "e387a961-e712-4c7b-b82b-04ef09a01f3d",
   "metadata": {},
   "outputs": [],
   "source": [
    "typ = [\"kodeks karny\"] * len(contents)\n",
    "typ_2 = [\"kodeks wykroczeń\"] * len(contents_2)"
   ]
  },
  {
   "cell_type": "markdown",
   "id": "2f49b158-f13e-4316-aba2-af4552359f18",
   "metadata": {},
   "source": [
    "# Listy połączono za pomocą extend"
   ]
  },
  {
   "cell_type": "code",
   "execution_count": 111,
   "id": "a300307d-f9d3-4be5-8f3c-757464b7125e",
   "metadata": {},
   "outputs": [],
   "source": [
    "headers.extend(headers_2)\n",
    "contents.extend(contents_2)\n",
    "chapters.extend(chapters_2)\n",
    "typ.extend(typ_2)"
   ]
  },
  {
   "cell_type": "code",
   "execution_count": 112,
   "id": "d80b42a4-3fde-4305-a4bb-ace856fe5a26",
   "metadata": {
    "tags": []
   },
   "outputs": [],
   "source": [
    "dictionary = {\"Nagłówki\": headers, \"Treść\": contents, \"Kategoria\": chapters, \"Rodzaj\": typ}"
   ]
  },
  {
   "cell_type": "code",
   "execution_count": 113,
   "id": "52437659-fa9f-4ebe-bbb0-2d7bd01b57f9",
   "metadata": {
    "tags": []
   },
   "outputs": [],
   "source": [
    "dataset = pd.DataFrame(data = dictionary)"
   ]
  },
  {
   "cell_type": "code",
   "execution_count": 114,
   "id": "4af209d6-2947-4dcc-be7b-0f7097ea762e",
   "metadata": {},
   "outputs": [
    {
     "data": {
      "text/html": [
       "<div>\n",
       "<style scoped>\n",
       "    .dataframe tbody tr th:only-of-type {\n",
       "        vertical-align: middle;\n",
       "    }\n",
       "\n",
       "    .dataframe tbody tr th {\n",
       "        vertical-align: top;\n",
       "    }\n",
       "\n",
       "    .dataframe thead th {\n",
       "        text-align: right;\n",
       "    }\n",
       "</style>\n",
       "<table border=\"1\" class=\"dataframe\">\n",
       "  <thead>\n",
       "    <tr style=\"text-align: right;\">\n",
       "      <th></th>\n",
       "      <th>Nagłówki</th>\n",
       "      <th>Treść</th>\n",
       "      <th>Kategoria</th>\n",
       "      <th>Rodzaj</th>\n",
       "    </tr>\n",
       "  </thead>\n",
       "  <tbody>\n",
       "    <tr>\n",
       "      <th>0</th>\n",
       "      <td>Art. 117. Wojna napastnicza</td>\n",
       "      <td>§ 1. Kto wszczyna lub prowadzi wojnę napastnic...</td>\n",
       "      <td>Rozdział XVI. Przestępstwa przeciwko pokojowi,...</td>\n",
       "      <td>kodeks karny</td>\n",
       "    </tr>\n",
       "    <tr>\n",
       "      <th>1</th>\n",
       "      <td>Art. 118. Ludobójstwo</td>\n",
       "      <td>§ 1. Kto, w celu wyniszczenia w całości albo w...</td>\n",
       "      <td>Rozdział XVI. Przestępstwa przeciwko pokojowi,...</td>\n",
       "      <td>kodeks karny</td>\n",
       "    </tr>\n",
       "    <tr>\n",
       "      <th>2</th>\n",
       "      <td>Art. 118a. Udział w masowym zamachu</td>\n",
       "      <td>§ 1. Kto, biorąc udział w masowym zamachu lub ...</td>\n",
       "      <td>Rozdział XVI. Przestępstwa przeciwko pokojowi,...</td>\n",
       "      <td>kodeks karny</td>\n",
       "    </tr>\n",
       "    <tr>\n",
       "      <th>3</th>\n",
       "      <td>Art. 119. Dyskryminacja</td>\n",
       "      <td>§ 1. Kto stosuje przemoc lub groźbę bezprawną ...</td>\n",
       "      <td>Rozdział XVI. Przestępstwa przeciwko pokojowi,...</td>\n",
       "      <td>kodeks karny</td>\n",
       "    </tr>\n",
       "    <tr>\n",
       "      <th>4</th>\n",
       "      <td>Art. 120. Stosowanie środków masowej zagłady</td>\n",
       "      <td>Kto stosuje środek masowej zagłady zakazany pr...</td>\n",
       "      <td>Rozdział XVI. Przestępstwa przeciwko pokojowi,...</td>\n",
       "      <td>kodeks karny</td>\n",
       "    </tr>\n",
       "    <tr>\n",
       "      <th>...</th>\n",
       "      <td>...</td>\n",
       "      <td>...</td>\n",
       "      <td>...</td>\n",
       "      <td>...</td>\n",
       "    </tr>\n",
       "    <tr>\n",
       "      <th>413</th>\n",
       "      <td>Art. 162. Zanieczyszczanie gleby i wody albo z...</td>\n",
       "      <td>§ 1. Kto w lasach zanieczyszcza glebę lub wodę...</td>\n",
       "      <td>Rozdział XIX. Szkodnictwo leśne, polne i ogrodowe</td>\n",
       "      <td>kodeks wykroczeń</td>\n",
       "    </tr>\n",
       "    <tr>\n",
       "      <th>414</th>\n",
       "      <td>Art. 163. Niszczenie grzybów lub grzybni</td>\n",
       "      <td>Kto w lesie rozgarnia ściółkę i niszczy grzyby...</td>\n",
       "      <td>Rozdział XIX. Szkodnictwo leśne, polne i ogrodowe</td>\n",
       "      <td>kodeks wykroczeń</td>\n",
       "    </tr>\n",
       "    <tr>\n",
       "      <th>415</th>\n",
       "      <td>Art. 164. Wybieranie jaj, piskląt, niszczenie ...</td>\n",
       "      <td>Kto wybiera jaja lub pisklęta, niszczy lęgowis...</td>\n",
       "      <td>Rozdział XIX. Szkodnictwo leśne, polne i ogrodowe</td>\n",
       "      <td>kodeks wykroczeń</td>\n",
       "    </tr>\n",
       "    <tr>\n",
       "      <th>416</th>\n",
       "      <td>Art. 165. Płoszenie, ściganie, chwytanie, rani...</td>\n",
       "      <td>Kto w lesie, w sposób złośliwy, płoszy albo śc...</td>\n",
       "      <td>Rozdział XIX. Szkodnictwo leśne, polne i ogrodowe</td>\n",
       "      <td>kodeks wykroczeń</td>\n",
       "    </tr>\n",
       "    <tr>\n",
       "      <th>417</th>\n",
       "      <td>Art. 166. Puszczanie luzem psa w lesie</td>\n",
       "      <td>Kto w lesie puszcza luzem psa, poza czynnościa...</td>\n",
       "      <td>Rozdział XIX. Szkodnictwo leśne, polne i ogrodowe</td>\n",
       "      <td>kodeks wykroczeń</td>\n",
       "    </tr>\n",
       "  </tbody>\n",
       "</table>\n",
       "<p>418 rows × 4 columns</p>\n",
       "</div>"
      ],
      "text/plain": [
       "                                              Nagłówki  \\\n",
       "0                          Art. 117. Wojna napastnicza   \n",
       "1                                Art. 118. Ludobójstwo   \n",
       "2                  Art. 118a. Udział w masowym zamachu   \n",
       "3                              Art. 119. Dyskryminacja   \n",
       "4         Art. 120. Stosowanie środków masowej zagłady   \n",
       "..                                                 ...   \n",
       "413  Art. 162. Zanieczyszczanie gleby i wody albo z...   \n",
       "414           Art. 163. Niszczenie grzybów lub grzybni   \n",
       "415  Art. 164. Wybieranie jaj, piskląt, niszczenie ...   \n",
       "416  Art. 165. Płoszenie, ściganie, chwytanie, rani...   \n",
       "417             Art. 166. Puszczanie luzem psa w lesie   \n",
       "\n",
       "                                                 Treść  \\\n",
       "0    § 1. Kto wszczyna lub prowadzi wojnę napastnic...   \n",
       "1    § 1. Kto, w celu wyniszczenia w całości albo w...   \n",
       "2    § 1. Kto, biorąc udział w masowym zamachu lub ...   \n",
       "3    § 1. Kto stosuje przemoc lub groźbę bezprawną ...   \n",
       "4    Kto stosuje środek masowej zagłady zakazany pr...   \n",
       "..                                                 ...   \n",
       "413  § 1. Kto w lasach zanieczyszcza glebę lub wodę...   \n",
       "414  Kto w lesie rozgarnia ściółkę i niszczy grzyby...   \n",
       "415  Kto wybiera jaja lub pisklęta, niszczy lęgowis...   \n",
       "416  Kto w lesie, w sposób złośliwy, płoszy albo śc...   \n",
       "417  Kto w lesie puszcza luzem psa, poza czynnościa...   \n",
       "\n",
       "                                             Kategoria            Rodzaj  \n",
       "0    Rozdział XVI. Przestępstwa przeciwko pokojowi,...      kodeks karny  \n",
       "1    Rozdział XVI. Przestępstwa przeciwko pokojowi,...      kodeks karny  \n",
       "2    Rozdział XVI. Przestępstwa przeciwko pokojowi,...      kodeks karny  \n",
       "3    Rozdział XVI. Przestępstwa przeciwko pokojowi,...      kodeks karny  \n",
       "4    Rozdział XVI. Przestępstwa przeciwko pokojowi,...      kodeks karny  \n",
       "..                                                 ...               ...  \n",
       "413  Rozdział XIX. Szkodnictwo leśne, polne i ogrodowe  kodeks wykroczeń  \n",
       "414  Rozdział XIX. Szkodnictwo leśne, polne i ogrodowe  kodeks wykroczeń  \n",
       "415  Rozdział XIX. Szkodnictwo leśne, polne i ogrodowe  kodeks wykroczeń  \n",
       "416  Rozdział XIX. Szkodnictwo leśne, polne i ogrodowe  kodeks wykroczeń  \n",
       "417  Rozdział XIX. Szkodnictwo leśne, polne i ogrodowe  kodeks wykroczeń  \n",
       "\n",
       "[418 rows x 4 columns]"
      ]
     },
     "execution_count": 114,
     "metadata": {},
     "output_type": "execute_result"
    }
   ],
   "source": [
    "dataset"
   ]
  },
  {
   "cell_type": "code",
   "execution_count": 115,
   "id": "1b85c711-c80b-4daf-a059-6e7f08a6bfd6",
   "metadata": {
    "tags": []
   },
   "outputs": [],
   "source": [
    "dataset.to_csv('new_db.csv', sep=';', encoding='utf-8-sig', index=False)"
   ]
  },
  {
   "cell_type": "markdown",
   "id": "ca625209-473c-4eb6-8cdd-561416ee5dd1",
   "metadata": {},
   "source": [
    "# Spadki"
   ]
  },
  {
   "cell_type": "code",
   "execution_count": 2,
   "id": "cd3ec007-76fb-4153-af64-fe25491431ae",
   "metadata": {
    "tags": []
   },
   "outputs": [],
   "source": [
    "path = r\"C:\\Users\\jakub\\Downloads\\chromedriver-win64\\chromedriver.exe\"\n",
    "service = Service(path)\n",
    "driver = webdriver.Chrome(service=service)\n",
    "driver.get(\"https://arslege.pl/kodeks-cywilny/k9/s2055/\")\n",
    "time.sleep(5)\n",
    "s_content = driver.find_elements(By.CLASS_NAME, \"art_tresc\")\n",
    "s_header = driver.find_elements(By.CLASS_NAME, \"art_indeks\")\n",
    "s_contents = [c.text for c in s_content]\n",
    "s_headers = [h.text for h in s_header]\n",
    "driver.quit()"
   ]
  },
  {
   "cell_type": "code",
   "execution_count": 7,
   "id": "688e53c4-9bac-4eae-9ed3-a085c73e8aa5",
   "metadata": {
    "tags": []
   },
   "outputs": [],
   "source": [
    "dictionary = {\"Headers\": s_headers, \"Contents\": s_contents}"
   ]
  },
  {
   "cell_type": "code",
   "execution_count": 8,
   "id": "09e7e711-ced0-4842-ac2d-fe87f67e87a0",
   "metadata": {
    "tags": []
   },
   "outputs": [],
   "source": [
    "dataset = pd.DataFrame(data = dictionary)"
   ]
  },
  {
   "cell_type": "code",
   "execution_count": 9,
   "id": "87ceed16-a5d6-4e8e-abc8-ec5f6dc60210",
   "metadata": {
    "tags": []
   },
   "outputs": [],
   "source": [
    "dataset.to_csv('spadki.csv', sep=';', encoding='utf-8-sig', index=False)"
   ]
  }
 ],
 "metadata": {
  "kernelspec": {
   "display_name": "Python 3 (ipykernel)",
   "language": "python",
   "name": "python3"
  },
  "language_info": {
   "codemirror_mode": {
    "name": "ipython",
    "version": 3
   },
   "file_extension": ".py",
   "mimetype": "text/x-python",
   "name": "python",
   "nbconvert_exporter": "python",
   "pygments_lexer": "ipython3",
   "version": "3.13.5"
  }
 },
 "nbformat": 4,
 "nbformat_minor": 5
}

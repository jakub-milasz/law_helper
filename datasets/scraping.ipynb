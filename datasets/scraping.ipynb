{
 "cells": [
  {
   "cell_type": "code",
   "execution_count": 3,
   "id": "0915b3eb-d54c-4dcd-b4f0-41faf7de95c6",
   "metadata": {
    "tags": []
   },
   "outputs": [],
   "source": [
    "from selenium import webdriver\n",
    "from selenium.webdriver.common.by import By\n",
    "from selenium.webdriver.chrome.service import Service\n",
    "import pandas as pd\n",
    "import time"
   ]
  },
  {
   "cell_type": "markdown",
   "id": "c76cb160-50a0-412f-9e56-2585910569d2",
   "metadata": {},
   "source": [
    "# Kodeks karny"
   ]
  },
  {
   "cell_type": "code",
   "execution_count": 2,
   "id": "1893a69d-9b5a-4aa3-aee6-f1f082d304cb",
   "metadata": {
    "tags": []
   },
   "outputs": [],
   "source": [
    "path = r\"C:\\Users\\jakub\\Downloads\\chromedriver-win64\\chromedriver.exe\"\n",
    "service = Service(path)\n",
    "driver = webdriver.Chrome(service=service)\n",
    "driver.get(\"https://arslege.pl/kodeks-karny/k1/s193/\")\n",
    "time.sleep(5)\n",
    "content = driver.find_elements(By.CLASS_NAME, \"art_tresc\")\n",
    "header = driver.find_elements(By.CLASS_NAME, \"art_indeks\")\n",
    "contents = [c.text for c in content]\n",
    "headers = [h.text for h in header]\n",
    "driver.quit()"
   ]
  },
  {
   "cell_type": "markdown",
   "id": "145c7f11-35c7-4bb8-bb53-3c96dbf9e8e8",
   "metadata": {},
   "source": [
    "# Kodeks wykroczeń"
   ]
  },
  {
   "cell_type": "code",
   "execution_count": 3,
   "id": "854f14f6-4a0e-431d-b4a6-ab04e100605d",
   "metadata": {
    "tags": []
   },
   "outputs": [],
   "source": [
    "path = r\"C:\\Users\\jakub\\Downloads\\chromedriver-win64\\chromedriver.exe\"\n",
    "service = Service(path)\n",
    "driver = webdriver.Chrome(service=service)\n",
    "driver.get(\"https://arslege.pl/kodeks-wykroczen/k11/s446/\")\n",
    "time.sleep(5)\n",
    "content_2 = driver.find_elements(By.CLASS_NAME, \"art_tresc\")\n",
    "header_2 = driver.find_elements(By.CLASS_NAME, \"art_indeks\")\n",
    "contents_2 = [c.text for c in content_2]\n",
    "headers_2 = [h.text for h in header_2]\n",
    "driver.quit()"
   ]
  },
  {
   "cell_type": "code",
   "execution_count": null,
   "id": "81599cb2-10c0-48dd-9855-5def5c80a658",
   "metadata": {},
   "outputs": [],
   "source": [
    "len(contents)"
   ]
  },
  {
   "cell_type": "code",
   "execution_count": null,
   "id": "57175578-9fbb-48cd-9b78-78c3b0a07896",
   "metadata": {},
   "outputs": [],
   "source": [
    "len(contents_2)"
   ]
  },
  {
   "cell_type": "code",
   "execution_count": null,
   "id": "e387a961-e712-4c7b-b82b-04ef09a01f3d",
   "metadata": {},
   "outputs": [],
   "source": [
    "typ = [\"kodeks karny\"] * len(contents)\n",
    "typ_2 = [\"kodeks wykroczeń\"] * len(contents_2)"
   ]
  },
  {
   "cell_type": "markdown",
   "id": "2f49b158-f13e-4316-aba2-af4552359f18",
   "metadata": {},
   "source": [
    "# Listy połączono za pomocą extend"
   ]
  },
  {
   "cell_type": "code",
   "execution_count": null,
   "id": "a300307d-f9d3-4be5-8f3c-757464b7125e",
   "metadata": {},
   "outputs": [],
   "source": [
    "headers.extend(headers_2)\n",
    "contents.extend(contents_2)\n",
    "typ.extend(typ_2)"
   ]
  },
  {
   "cell_type": "code",
   "execution_count": 18,
   "id": "d80b42a4-3fde-4305-a4bb-ace856fe5a26",
   "metadata": {
    "tags": []
   },
   "outputs": [],
   "source": [
    "dictionary = {\"Nagłówki\": headers, \"Treść\": contents, \"Rodzaj\": typ}"
   ]
  },
  {
   "cell_type": "code",
   "execution_count": 10,
   "id": "52437659-fa9f-4ebe-bbb0-2d7bd01b57f9",
   "metadata": {
    "tags": []
   },
   "outputs": [],
   "source": [
    "dataset = pd.DataFrame(data = dictionary)"
   ]
  },
  {
   "cell_type": "code",
   "execution_count": null,
   "id": "4af209d6-2947-4dcc-be7b-0f7097ea762e",
   "metadata": {},
   "outputs": [],
   "source": [
    "dataset"
   ]
  },
  {
   "cell_type": "code",
   "execution_count": 22,
   "id": "1b85c711-c80b-4daf-a059-6e7f08a6bfd6",
   "metadata": {
    "tags": []
   },
   "outputs": [],
   "source": [
    "dataset.to_csv('db.csv', sep=';', encoding='utf-8-sig', index=False)"
   ]
  },
  {
   "cell_type": "markdown",
   "id": "ca625209-473c-4eb6-8cdd-561416ee5dd1",
   "metadata": {},
   "source": [
    "# Spadki"
   ]
  },
  {
   "cell_type": "code",
   "execution_count": 2,
   "id": "cd3ec007-76fb-4153-af64-fe25491431ae",
   "metadata": {
    "tags": []
   },
   "outputs": [],
   "source": [
    "path = r\"C:\\Users\\jakub\\Downloads\\chromedriver-win64\\chromedriver.exe\"\n",
    "service = Service(path)\n",
    "driver = webdriver.Chrome(service=service)\n",
    "driver.get(\"https://arslege.pl/kodeks-cywilny/k9/s2055/\")\n",
    "time.sleep(5)\n",
    "s_content = driver.find_elements(By.CLASS_NAME, \"art_tresc\")\n",
    "s_header = driver.find_elements(By.CLASS_NAME, \"art_indeks\")\n",
    "s_contents = [c.text for c in s_content]\n",
    "s_headers = [h.text for h in s_header]\n",
    "driver.quit()"
   ]
  },
  {
   "cell_type": "code",
   "execution_count": 7,
   "id": "688e53c4-9bac-4eae-9ed3-a085c73e8aa5",
   "metadata": {
    "tags": []
   },
   "outputs": [],
   "source": [
    "dictionary = {\"Headers\": s_headers, \"Contents\": s_contents}"
   ]
  },
  {
   "cell_type": "code",
   "execution_count": 8,
   "id": "09e7e711-ced0-4842-ac2d-fe87f67e87a0",
   "metadata": {
    "tags": []
   },
   "outputs": [],
   "source": [
    "dataset = pd.DataFrame(data = dictionary)"
   ]
  },
  {
   "cell_type": "code",
   "execution_count": 9,
   "id": "87ceed16-a5d6-4e8e-abc8-ec5f6dc60210",
   "metadata": {
    "tags": []
   },
   "outputs": [],
   "source": [
    "dataset.to_csv('spadki.csv', sep=';', encoding='utf-8-sig', index=False)"
   ]
  }
 ],
 "metadata": {
  "kernelspec": {
   "display_name": "Python 3 (ipykernel)",
   "language": "python",
   "name": "python3"
  },
  "language_info": {
   "codemirror_mode": {
    "name": "ipython",
    "version": 3
   },
   "file_extension": ".py",
   "mimetype": "text/x-python",
   "name": "python",
   "nbconvert_exporter": "python",
   "pygments_lexer": "ipython3",
   "version": "3.13.5"
  }
 },
 "nbformat": 4,
 "nbformat_minor": 5
}

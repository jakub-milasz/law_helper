{
 "cells": [
  {
   "cell_type": "code",
   "execution_count": 2,
   "id": "bb7f576c-ef24-470f-92b8-2e722a8fa518",
   "metadata": {
    "tags": []
   },
   "outputs": [],
   "source": [
    "import pandas as pd\n",
    "from sklearn.feature_extraction.text import TfidfVectorizer\n",
    "from sklearn.metrics.pairwise import cosine_similarity"
   ]
  },
  {
   "cell_type": "code",
   "execution_count": 3,
   "id": "c7411e1c-ac49-42b8-9ef5-9431f8be8418",
   "metadata": {
    "tags": []
   },
   "outputs": [],
   "source": [
    "df = pd.read_csv('criminal.csv')"
   ]
  },
  {
   "cell_type": "code",
   "execution_count": 12,
   "id": "fea300e2-c1ee-4301-b657-55412ff6cb54",
   "metadata": {
    "tags": []
   },
   "outputs": [
    {
     "data": {
      "text/plain": [
       "Index(['article_id', 'crime', 'penalty'], dtype='object')"
      ]
     },
     "execution_count": 12,
     "metadata": {},
     "output_type": "execute_result"
    }
   ],
   "source": [
    "df.columns"
   ]
  },
  {
   "cell_type": "code",
   "execution_count": 13,
   "id": "15425222-855a-4f61-afc6-0db30462e22d",
   "metadata": {
    "tags": []
   },
   "outputs": [],
   "source": [
    "# Funkcja do dopasowania opisu przestępstwa\n",
    "def dopasuj_przestepstwo(wykroczenie):\n",
    "    # Tworzenie wektorów TF-IDF\n",
    "    tfidf_vectorizer = TfidfVectorizer()\n",
    "    tfidf_matrix = tfidf_vectorizer.fit_transform(df['crime'])\n",
    "    \n",
    "    # Wektor wejściowy (wykroczenie)\n",
    "    wykroczenie_vector = tfidf_vectorizer.transform([wykroczenie])\n",
    "    \n",
    "    # Obliczanie podobieństwa kosinusowego\n",
    "    similarity = cosine_similarity(wykroczenie_vector, tfidf_matrix)\n",
    "    \n",
    "    # Znalezienie indeksu najlepszego dopasowania\n",
    "    best_match_index = similarity.argsort()[0][-1]\n",
    "    \n",
    "    # Zwracanie najlepszego dopasowania oraz kary\n",
    "    return df.iloc[best_match_index]['crime'], df.iloc[best_match_index]['penalty']"
   ]
  },
  {
   "cell_type": "code",
   "execution_count": 16,
   "id": "364648a2-42c2-4cde-959a-17276315088e",
   "metadata": {
    "tags": []
   },
   "outputs": [],
   "source": [
    "# Przykład użycia\n",
    "wykroczenie_input = \"mordowałem\"\n",
    "opis, kara = dopasuj_przestepstwo(wykroczenie_input)"
   ]
  },
  {
   "cell_type": "code",
   "execution_count": 17,
   "id": "2e9d8806-be88-4d6e-9b20-41caeefff12e",
   "metadata": {
    "tags": []
   },
   "outputs": [
    {
     "name": "stdout",
     "output_type": "stream",
     "text": [
      "Dopasowane przestępstwo: Kto, naruszając prawo międzynarodowe, powoduje u osób:\n",
      "1) które składając broń lub nie dysponując środkami obrony poddały się,\n",
      "2) rannych, chorych, rozbitków, personelu medycznego lub osób duchownych,\n",
      "3) jeńców wojennych,\n",
      "4) ludności cywilnej obszaru okupowanego, zajętego lub na którym toczą się\n",
      "działania zbrojne, albo innych osób korzystających w czasie działań zbrojnych\n",
      "z ochrony międzynarodowej, ciężki uszczerbek na zdrowiu, poddaje te osoby torturom, okrutnemu lub\n",
      "nieludzkiemu traktowaniu, dokonuje na nich, nawet za ich zgodą, eksperymentów\n",
      "poznawczych, używa ich do ochraniania swoją obecnością określonego terenu lub\n",
      "obiektu przed działaniami zbrojnymi albo własnych oddziałów lub zatrzymuje jako\n",
      "zakładników\n",
      "Grożąca kara: od 5 lat do 25 lat\n"
     ]
    }
   ],
   "source": [
    "print(f\"Dopasowane przestępstwo: {opis}\")\n",
    "print(f\"Grożąca kara: {kara}\")"
   ]
  },
  {
   "cell_type": "code",
   "execution_count": null,
   "id": "dd9cfa7b-f4c1-4904-b286-139bcd29a2ca",
   "metadata": {},
   "outputs": [],
   "source": []
  }
 ],
 "metadata": {
  "kernelspec": {
   "display_name": "Python 3 (ipykernel)",
   "language": "python",
   "name": "python3"
  },
  "language_info": {
   "codemirror_mode": {
    "name": "ipython",
    "version": 3
   },
   "file_extension": ".py",
   "mimetype": "text/x-python",
   "name": "python",
   "nbconvert_exporter": "python",
   "pygments_lexer": "ipython3",
   "version": "3.11.5"
  }
 },
 "nbformat": 4,
 "nbformat_minor": 5
}

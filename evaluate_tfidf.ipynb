{
 "cells": [
  {
   "cell_type": "code",
   "execution_count": 27,
   "id": "639679ad-5b77-4317-b057-12e181cb8372",
   "metadata": {
    "tags": []
   },
   "outputs": [],
   "source": [
    "import pandas as pd\n",
    "import numpy as np\n",
    "from sklearn.feature_extraction.text import TfidfVectorizer\n",
    "from sklearn.metrics.pairwise import cosine_similarity\n",
    "from stempel import StempelStemmer\n",
    "import re"
   ]
  },
  {
   "cell_type": "code",
   "execution_count": 28,
   "id": "4e1368c5-1b7b-4ffc-a402-c94782c4966d",
   "metadata": {
    "tags": []
   },
   "outputs": [],
   "source": [
    "dataset = pd.read_csv('criminal.csv', sep=';')"
   ]
  },
  {
   "cell_type": "code",
   "execution_count": 42,
   "id": "323a7685-a090-4731-94fc-bdb8ec915273",
   "metadata": {
    "tags": []
   },
   "outputs": [
    {
     "data": {
      "text/plain": [
       "410"
      ]
     },
     "execution_count": 42,
     "metadata": {},
     "output_type": "execute_result"
    }
   ],
   "source": [
    "dataset.shape[0]"
   ]
  },
  {
   "cell_type": "code",
   "execution_count": 32,
   "id": "a47f4dd0-a119-4565-9b7d-afb4b17ce4bf",
   "metadata": {
    "tags": []
   },
   "outputs": [],
   "source": [
    "# def transform_text(text):\n",
    "#     text = text.lower()\n",
    "#     text = text.split()\n",
    "#     ss = StempelStemmer.default()\n",
    "#     text = [ss.stem(word) for word in text]\n",
    "#     if None in text:\n",
    "#         text.remove(None)\n",
    "#     text = ' '.join(text)\n",
    "#     return text"
   ]
  },
  {
   "cell_type": "code",
   "execution_count": 33,
   "id": "e29d6679-296f-4a2c-923f-42f103a63e1e",
   "metadata": {
    "tags": []
   },
   "outputs": [],
   "source": [
    "# corpus = []\n",
    "# for i in range(dataset.shape[0]):\n",
    "#     art = transform_text(str(dataset['crime'][i]))\n",
    "#     corpus.append(art)"
   ]
  },
  {
   "cell_type": "code",
   "execution_count": 34,
   "id": "7b239bc3-a643-480a-871c-26787a34ef6a",
   "metadata": {
    "tags": []
   },
   "outputs": [],
   "source": [
    "# for i in range(transformed_criminal.shape[0]):\n",
    "#     transformed_criminal['crime'][i] = re.sub('[^a-zA-ZąĄćĆęĘłŁńŃóÓśŚźŹżŻ]', ' ', transformed_criminal['crime'][i])\n",
    "#     transformed_criminal['crime'][i] = transformed_criminal['crime'][i].strip()"
   ]
  },
  {
   "cell_type": "code",
   "execution_count": 35,
   "id": "c15c7f07-e76d-4ad5-9fc9-fa6387965854",
   "metadata": {
    "tags": []
   },
   "outputs": [],
   "source": [
    "# transformed_criminal.to_csv('transformed.csv', sep=';', encoding='utf-8-sig')"
   ]
  },
  {
   "cell_type": "code",
   "execution_count": 38,
   "id": "2cf0bef4-20e1-461f-a20a-d1cd271318d9",
   "metadata": {
    "tags": []
   },
   "outputs": [],
   "source": [
    "def fit_crime(my_crime, data):\n",
    "    tfidf_vectorizer = TfidfVectorizer()\n",
    "    tfidf_matrix = tfidf_vectorizer.fit_transform(data)\n",
    "    crime_vector = tfidf_vectorizer.transform([my_crime])\n",
    "    similarity = cosine_similarity(crime_vector, tfidf_matrix).flatten()\n",
    "    print(similarity)\n",
    "    best_match_index = similarity.argmax()\n",
    "    return dataset.iloc[best_match_index]['crime'], dataset.iloc[best_match_index]['penalty']"
   ]
  },
  {
   "cell_type": "code",
   "execution_count": 41,
   "id": "d3317b42-63ce-4355-b568-9680fe7a18e3",
   "metadata": {},
   "outputs": [
    {
     "name": "stdout",
     "output_type": "stream",
     "text": [
      "[0.         0.         0.         0.         0.         0.09228802\n",
      " 0.         0.         0.         0.         0.         0.\n",
      " 0.         0.         0.         0.         0.         0.\n",
      " 0.         0.         0.         0.         0.         0.\n",
      " 0.         0.         0.         0.         0.         0.\n",
      " 0.         0.         0.         0.         0.         0.\n",
      " 0.         0.         0.         0.         0.         0.\n",
      " 0.         0.         0.         0.         0.         0.\n",
      " 0.         0.         0.         0.         0.         0.\n",
      " 0.         0.         0.         0.         0.         0.\n",
      " 0.         0.         0.         0.         0.         0.\n",
      " 0.         0.         0.         0.         0.25496908 0.\n",
      " 0.         0.         0.         0.         0.         0.\n",
      " 0.         0.         0.         0.         0.         0.\n",
      " 0.         0.         0.         0.         0.         0.\n",
      " 0.         0.         0.         0.         0.         0.\n",
      " 0.         0.         0.         0.         0.         0.\n",
      " 0.         0.         0.         0.         0.         0.\n",
      " 0.         0.         0.         0.         0.         0.\n",
      " 0.         0.         0.         0.         0.         0.\n",
      " 0.         0.         0.         0.         0.         0.\n",
      " 0.         0.         0.         0.         0.         0.\n",
      " 0.         0.         0.         0.         0.         0.\n",
      " 0.         0.         0.         0.         0.         0.\n",
      " 0.         0.         0.         0.         0.         0.\n",
      " 0.         0.         0.         0.         0.         0.\n",
      " 0.         0.         0.         0.         0.         0.\n",
      " 0.         0.         0.         0.         0.         0.\n",
      " 0.         0.         0.         0.         0.         0.\n",
      " 0.         0.         0.         0.         0.         0.\n",
      " 0.         0.         0.         0.         0.         0.\n",
      " 0.         0.         0.         0.         0.         0.\n",
      " 0.         0.         0.         0.         0.         0.\n",
      " 0.         0.         0.         0.         0.         0.\n",
      " 0.         0.         0.         0.         0.         0.\n",
      " 0.         0.         0.         0.         0.         0.\n",
      " 0.         0.         0.         0.         0.         0.\n",
      " 0.         0.         0.         0.         0.         0.\n",
      " 0.         0.         0.         0.         0.         0.\n",
      " 0.         0.         0.         0.         0.         0.\n",
      " 0.         0.         0.         0.         0.         0.\n",
      " 0.         0.         0.         0.         0.         0.\n",
      " 0.         0.         0.         0.         0.         0.\n",
      " 0.         0.         0.         0.         0.         0.\n",
      " 0.         0.         0.         0.         0.         0.\n",
      " 0.         0.         0.         0.         0.         0.\n",
      " 0.         0.         0.         0.         0.         0.\n",
      " 0.         0.         0.         0.         0.         0.\n",
      " 0.         0.         0.         0.         0.         0.\n",
      " 0.         0.         0.         0.         0.         0.\n",
      " 0.         0.         0.         0.         0.         0.\n",
      " 0.         0.         0.         0.         0.         0.\n",
      " 0.         0.         0.         0.         0.         0.\n",
      " 0.         0.         0.         0.         0.         0.\n",
      " 0.         0.         0.         0.         0.         0.\n",
      " 0.         0.         0.         0.         0.         0.\n",
      " 0.         0.         0.         0.         0.         0.\n",
      " 0.         0.         0.         0.         0.         0.\n",
      " 0.         0.         0.         0.         0.         0.\n",
      " 0.         0.         0.         0.         0.         0.\n",
      " 0.         0.         0.         0.         0.         0.\n",
      " 0.         0.         0.         0.         0.         0.\n",
      " 0.         0.         0.         0.         0.         0.\n",
      " 0.         0.         0.         0.         0.         0.\n",
      " 0.         0.         0.         0.         0.         0.\n",
      " 0.         0.         0.         0.         0.         0.\n",
      " 0.         0.         0.         0.         0.         0.\n",
      " 0.         0.         0.         0.         0.         0.\n",
      " 0.         0.        ]\n",
      "Dopasowane przestępstwo: § 1. Kto stosując przemoc wobec kobiety ciężarnej lub w inny sposób bez jej zgody przerywa ciążę albo przemocą, groźbą bezprawną lub podstępem doprowadza kobietę ciężarną do przerwania ciąży,\n",
      "Grożąca kara: karze pozbawienia wolności od 6 miesięcy do lat 8.\n"
     ]
    }
   ],
   "source": [
    "wykroczenie_input = \"zabiłem kobietę\"\n",
    "opis, kara = fit_crime(wykroczenie_input, dataset['crime'])\n",
    "\n",
    "print(f\"Dopasowane przestępstwo: {opis}\")\n",
    "print(f\"Grożąca kara: {kara}\")"
   ]
  },
  {
   "cell_type": "code",
   "execution_count": null,
   "id": "a935c54f-927b-4261-bb37-39dd3ba778e3",
   "metadata": {},
   "outputs": [],
   "source": []
  }
 ],
 "metadata": {
  "kernelspec": {
   "display_name": "Python 3 (ipykernel)",
   "language": "python",
   "name": "python3"
  },
  "language_info": {
   "codemirror_mode": {
    "name": "ipython",
    "version": 3
   },
   "file_extension": ".py",
   "mimetype": "text/x-python",
   "name": "python",
   "nbconvert_exporter": "python",
   "pygments_lexer": "ipython3",
   "version": "3.11.5"
  }
 },
 "nbformat": 4,
 "nbformat_minor": 5
}

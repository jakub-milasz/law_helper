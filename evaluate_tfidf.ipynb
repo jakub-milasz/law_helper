{
 "cells": [
  {
   "cell_type": "code",
   "execution_count": 29,
   "id": "639679ad-5b77-4317-b057-12e181cb8372",
   "metadata": {
    "tags": []
   },
   "outputs": [],
   "source": [
    "import pandas as pd\n",
    "from sklearn.feature_extraction.text import TfidfVectorizer\n",
    "from sklearn.metrics.pairwise import cosine_similarity\n",
    "from stempel import StempelStemmer"
   ]
  },
  {
   "cell_type": "code",
   "execution_count": 30,
   "id": "4e1368c5-1b7b-4ffc-a402-c94782c4966d",
   "metadata": {
    "tags": []
   },
   "outputs": [],
   "source": [
    "dataset = pd.read_csv('criminal.csv')"
   ]
  },
  {
   "cell_type": "code",
   "execution_count": 31,
   "id": "a47f4dd0-a119-4565-9b7d-afb4b17ce4bf",
   "metadata": {
    "tags": []
   },
   "outputs": [],
   "source": [
    "def transform_text(text):\n",
    "    text = text.lower()\n",
    "    text = text.split()\n",
    "    ss = StempelStemmer.default()\n",
    "    text = [ss.stem(word) for word in text]\n",
    "    if None in text:\n",
    "        text.remove(None)\n",
    "    text = ' '.join(text)\n",
    "    return text"
   ]
  },
  {
   "cell_type": "code",
   "execution_count": 32,
   "id": "e29d6679-296f-4a2c-923f-42f103a63e1e",
   "metadata": {
    "tags": []
   },
   "outputs": [],
   "source": [
    "corpus = []\n",
    "for i in range(dataset.shape[0]):\n",
    "    art = transform_text(dataset['crime'][i])\n",
    "    corpus.append(art)"
   ]
  },
  {
   "cell_type": "code",
   "execution_count": 34,
   "id": "b955058c-bbef-44a0-ab31-792dfa202d13",
   "metadata": {
    "tags": []
   },
   "outputs": [
    {
     "data": {
      "text/html": [
       "<div>\n",
       "<style scoped>\n",
       "    .dataframe tbody tr th:only-of-type {\n",
       "        vertical-align: middle;\n",
       "    }\n",
       "\n",
       "    .dataframe tbody tr th {\n",
       "        vertical-align: top;\n",
       "    }\n",
       "\n",
       "    .dataframe thead th {\n",
       "        text-align: right;\n",
       "    }\n",
       "</style>\n",
       "<table border=\"1\" class=\"dataframe\">\n",
       "  <thead>\n",
       "    <tr style=\"text-align: right;\">\n",
       "      <th></th>\n",
       "      <th>crime</th>\n",
       "    </tr>\n",
       "  </thead>\n",
       "  <tbody>\n",
       "    <tr>\n",
       "      <th>0</th>\n",
       "      <td>§ 1. kto wszczyna lub prowadzić wojnę napastni...</td>\n",
       "    </tr>\n",
       "    <tr>\n",
       "      <th>1</th>\n",
       "      <td>§ 3. kto publiczny nawoływać do wszcząć wojny ...</td>\n",
       "    </tr>\n",
       "    <tr>\n",
       "      <th>2</th>\n",
       "      <td>§ 1. kto, w ć wyniszczeć w całość alć w część ...</td>\n",
       "    </tr>\n",
       "    <tr>\n",
       "      <th>3</th>\n",
       "      <td>§ 2. kto, w ć wyniszczeć w całość alć w część ...</td>\n",
       "    </tr>\n",
       "    <tr>\n",
       "      <th>4</th>\n",
       "      <td>§ 1. kto, brać udzieć w masowy zamach lub choć...</td>\n",
       "    </tr>\n",
       "    <tr>\n",
       "      <th>...</th>\n",
       "      <td>...</td>\n",
       "    </tr>\n",
       "    <tr>\n",
       "      <th>69</th>\n",
       "      <td>kto nieumyślny powodować śmierć człowieić</td>\n",
       "    </tr>\n",
       "    <tr>\n",
       "      <th>70</th>\n",
       "      <td>§ 1. kto powodować ciężki uszczerbka na zdrowi...</td>\n",
       "    </tr>\n",
       "    <tr>\n",
       "      <th>71</th>\n",
       "      <td>§ 1. kto naywać inny osoba do spowodować u on ...</td>\n",
       "    </tr>\n",
       "    <tr>\n",
       "      <th>72</th>\n",
       "      <td>§ 2. kto przemoca lub groźba bezprawny zmuszać...</td>\n",
       "    </tr>\n",
       "    <tr>\n",
       "      <th>73</th>\n",
       "      <td>§ 1. kto powodować naruszyć czynność narząd ci...</td>\n",
       "    </tr>\n",
       "  </tbody>\n",
       "</table>\n",
       "<p>74 rows × 1 columns</p>\n",
       "</div>"
      ],
      "text/plain": [
       "                                                crime\n",
       "0   § 1. kto wszczyna lub prowadzić wojnę napastni...\n",
       "1   § 3. kto publiczny nawoływać do wszcząć wojny ...\n",
       "2   § 1. kto, w ć wyniszczeć w całość alć w część ...\n",
       "3   § 2. kto, w ć wyniszczeć w całość alć w część ...\n",
       "4   § 1. kto, brać udzieć w masowy zamach lub choć...\n",
       "..                                                ...\n",
       "69          kto nieumyślny powodować śmierć człowieić\n",
       "70  § 1. kto powodować ciężki uszczerbka na zdrowi...\n",
       "71  § 1. kto naywać inny osoba do spowodować u on ...\n",
       "72  § 2. kto przemoca lub groźba bezprawny zmuszać...\n",
       "73  § 1. kto powodować naruszyć czynność narząd ci...\n",
       "\n",
       "[74 rows x 1 columns]"
      ]
     },
     "execution_count": 34,
     "metadata": {},
     "output_type": "execute_result"
    }
   ],
   "source": [
    "transformed_criminal = pd.DataFrame(corpus, columns=['crime'])\n",
    "transformed_criminal"
   ]
  },
  {
   "cell_type": "code",
   "execution_count": 35,
   "id": "c15c7f07-e76d-4ad5-9fc9-fa6387965854",
   "metadata": {
    "tags": []
   },
   "outputs": [],
   "source": [
    "transformed_criminal.to_csv('transformed.csv', sep=',')"
   ]
  },
  {
   "cell_type": "code",
   "execution_count": 36,
   "id": "2cf0bef4-20e1-461f-a20a-d1cd271318d9",
   "metadata": {
    "tags": []
   },
   "outputs": [],
   "source": [
    "def fit_crime(my_crime, data):\n",
    "    tfidf_vectorizer = TfidfVectorizer()\n",
    "    tfidf_matrix = tfidf_vectorizer.fit_transform(data)\n",
    "    crime_vector = tfidf_vectorizer.transform([my_crime])\n",
    "    similarity = cosine_similarity(crime_vector, tfidf_matrix)\n",
    "    print(similarity)\n",
    "    best_match_index = similarity.argsort()[0][-1]\n",
    "    return dataset.iloc[best_match_index]['article_number'], dataset.iloc[best_match_index]['crime'], dataset.iloc[best_match_index]['penalty']"
   ]
  },
  {
   "cell_type": "code",
   "execution_count": 39,
   "id": "d3317b42-63ce-4355-b568-9680fe7a18e3",
   "metadata": {},
   "outputs": [
    {
     "name": "stdout",
     "output_type": "stream",
     "text": [
      "zabić człowieić\n",
      "[[0.         0.         0.         0.         0.         0.\n",
      "  0.         0.         0.         0.         0.         0.\n",
      "  0.         0.         0.         0.         0.         0.\n",
      "  0.         0.         0.         0.         0.         0.\n",
      "  0.         0.         0.         0.         0.         0.\n",
      "  0.         0.         0.         0.         0.         0.\n",
      "  0.         0.         0.         0.         0.         0.\n",
      "  0.         0.         0.         0.         0.16098347 0.\n",
      "  0.         0.         0.         0.         0.         0.\n",
      "  0.66333101 0.         0.         0.25909804 0.         0.21582128\n",
      "  0.         0.27259603 0.25074646 0.         0.         0.\n",
      "  0.         0.         0.         0.39760501 0.09376064 0.\n",
      "  0.         0.08833605]]\n",
      "Dopasowane przestępstwo: § 1. Kto zabija człowieka\n",
      "Grożąca kara: od 10 lat do dożywotniego pozbawienia wolności\n"
     ]
    }
   ],
   "source": [
    "wykroczenie_input = \"zabiłem człowieka\"\n",
    "wykroczenie_input = transform_text(wykroczenie_input)\n",
    "print(wykroczenie_input)\n",
    "numer, opis, kara = fit_crime(wykroczenie_input, corpus)\n",
    "\n",
    "print(f\"Dopasowane przestępstwo: {opis}\")\n",
    "print(f\"Grożąca kara: {kara}\")"
   ]
  },
  {
   "cell_type": "code",
   "execution_count": null,
   "id": "a935c54f-927b-4261-bb37-39dd3ba778e3",
   "metadata": {},
   "outputs": [],
   "source": []
  }
 ],
 "metadata": {
  "kernelspec": {
   "display_name": "Python 3 (ipykernel)",
   "language": "python",
   "name": "python3"
  },
  "language_info": {
   "codemirror_mode": {
    "name": "ipython",
    "version": 3
   },
   "file_extension": ".py",
   "mimetype": "text/x-python",
   "name": "python",
   "nbconvert_exporter": "python",
   "pygments_lexer": "ipython3",
   "version": "3.11.5"
  }
 },
 "nbformat": 4,
 "nbformat_minor": 5
}

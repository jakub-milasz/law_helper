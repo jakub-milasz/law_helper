{
 "cells": [
  {
   "cell_type": "code",
   "execution_count": 7,
   "id": "70c4ab81-1ec9-4032-9b8a-6edb4dd8000f",
   "metadata": {
    "tags": []
   },
   "outputs": [],
   "source": [
    "from selenium import webdriver\n",
    "from selenium.webdriver.common.by import By\n",
    "from selenium.webdriver.chrome.service import Service\n",
    "import pandas as pd\n",
    "import time\n",
    "import re\n",
    "import numpy as np"
   ]
  },
  {
   "cell_type": "code",
   "execution_count": 8,
   "id": "d356b27d-2987-4843-97a8-f414403024b5",
   "metadata": {
    "tags": []
   },
   "outputs": [],
   "source": [
    "path = r\"C:\\Users\\jakub\\Downloads\\chromedriver-win64\\chromedriver.exe\"\n",
    "service = Service(path)\n",
    "driver = webdriver.Chrome(service=service)\n",
    "driver.get(\"https://arslege.pl/kodeks-karny/k1/s193/\")\n",
    "time.sleep(5)\n",
    "div_elements = driver.find_elements(By.CLASS_NAME, \"art_tresc\")\n",
    "div_texts = [div.text for div in div_elements]\n",
    "driver.quit()"
   ]
  },
  {
   "cell_type": "code",
   "execution_count": 70,
   "id": "6ac00299-1e4d-4057-9b28-5850b74eed82",
   "metadata": {
    "tags": []
   },
   "outputs": [],
   "source": [
    "# split by regex\n",
    "parts = [re.split(r'\\npodlega |, podlega |\\n§ |\\n- podlega ', text) for text in div_texts]"
   ]
  },
  {
   "cell_type": "code",
   "execution_count": 71,
   "id": "906dad4c-c690-4726-b50a-96bcb762d9d9",
   "metadata": {
    "tags": []
   },
   "outputs": [],
   "source": [
    "# delete uchylony\n",
    "for part in parts:\n",
    "    for i in range(len(part)-1, -1, -1):\n",
    "        if '(uchylony)' in part[i]:\n",
    "            part.remove(part[i])"
   ]
  },
  {
   "cell_type": "code",
   "execution_count": 72,
   "id": "ead06b4a-1777-4bc0-9f6f-00db44892388",
   "metadata": {
    "tags": []
   },
   "outputs": [],
   "source": [
    "# podział na artykuły i kary\n",
    "penalties = []\n",
    "articles = []\n",
    "for part in parts:\n",
    "    for item in part:\n",
    "        if 'karze' in item:\n",
    "            penalties.append(item)\n",
    "        elif (item.endswith('.') == False) and (item != ''):\n",
    "            articles.append(item)"
   ]
  },
  {
   "cell_type": "code",
   "execution_count": 73,
   "id": "973f8aa6-12cb-4620-91f3-375874b936fb",
   "metadata": {
    "tags": []
   },
   "outputs": [],
   "source": [
    "for i in range(len(penalties) - 1, -1, -1):\n",
    "    if ('Tej samej karze' in penalties[i]) or ('Nie podlega karze' in penalties[i]) or ('Jeżeli' in penalties[i]):\n",
    "        penalties.remove(penalties[i])"
   ]
  },
  {
   "cell_type": "code",
   "execution_count": 74,
   "id": "5ec8addd-2163-44a8-b474-21738443d444",
   "metadata": {
    "tags": []
   },
   "outputs": [
    {
     "data": {
      "text/plain": [
       "410"
      ]
     },
     "execution_count": 74,
     "metadata": {},
     "output_type": "execute_result"
    }
   ],
   "source": [
    "len(penalties)"
   ]
  },
  {
   "cell_type": "code",
   "execution_count": 75,
   "id": "9bfa62f0-5592-4133-9a19-7deff2c5a31b",
   "metadata": {
    "tags": []
   },
   "outputs": [
    {
     "data": {
      "text/plain": [
       "410"
      ]
     },
     "execution_count": 75,
     "metadata": {},
     "output_type": "execute_result"
    }
   ],
   "source": [
    "len(articles)"
   ]
  },
  {
   "cell_type": "code",
   "execution_count": 76,
   "id": "9d6f120c-9028-46eb-927c-e66249399a1c",
   "metadata": {},
   "outputs": [],
   "source": [
    "# fill penalties to articles' size\n",
    "articles.extend([None] * (len(penalties)-len(articles)))\n",
    "dc = {\"crime\": articles, \"penalty\": penalties}\n",
    "df = pd.DataFrame(dc)"
   ]
  },
  {
   "cell_type": "code",
   "execution_count": 77,
   "id": "bde811bd-9d4f-4342-8b39-8b045e55457c",
   "metadata": {
    "tags": []
   },
   "outputs": [
    {
     "data": {
      "text/html": [
       "<div>\n",
       "<style scoped>\n",
       "    .dataframe tbody tr th:only-of-type {\n",
       "        vertical-align: middle;\n",
       "    }\n",
       "\n",
       "    .dataframe tbody tr th {\n",
       "        vertical-align: top;\n",
       "    }\n",
       "\n",
       "    .dataframe thead th {\n",
       "        text-align: right;\n",
       "    }\n",
       "</style>\n",
       "<table border=\"1\" class=\"dataframe\">\n",
       "  <thead>\n",
       "    <tr style=\"text-align: right;\">\n",
       "      <th></th>\n",
       "      <th>crime</th>\n",
       "      <th>penalty</th>\n",
       "    </tr>\n",
       "  </thead>\n",
       "  <tbody>\n",
       "    <tr>\n",
       "      <th>0</th>\n",
       "      <td>§ 1. Kto wszczyna lub prowadzi wojnę napastniczą</td>\n",
       "      <td>karze pozbawienia wolności na czas nie krótszy...</td>\n",
       "    </tr>\n",
       "    <tr>\n",
       "      <th>1</th>\n",
       "      <td>3. Kto publicznie nawołuje do wszczęcia wojny ...</td>\n",
       "      <td>karze pozbawienia wolności od 3 miesięcy do la...</td>\n",
       "    </tr>\n",
       "    <tr>\n",
       "      <th>2</th>\n",
       "      <td>§ 1. Kto, w celu wyniszczenia w całości albo w...</td>\n",
       "      <td>karze pozbawienia wolności na czas nie krótszy...</td>\n",
       "    </tr>\n",
       "    <tr>\n",
       "      <th>3</th>\n",
       "      <td>2. Kto, w celu określonym w § 1, stwarza dla o...</td>\n",
       "      <td>karze pozbawienia wolności od lat 5 do 25.</td>\n",
       "    </tr>\n",
       "    <tr>\n",
       "      <th>4</th>\n",
       "      <td>§ 1. Kto, biorąc udział w masowym zamachu lub ...</td>\n",
       "      <td>karze pozbawienia wolności na czas nie krótszy...</td>\n",
       "    </tr>\n",
       "    <tr>\n",
       "      <th>...</th>\n",
       "      <td>...</td>\n",
       "      <td>...</td>\n",
       "    </tr>\n",
       "    <tr>\n",
       "      <th>405</th>\n",
       "      <td>Kto, w dokumentacji związanej z obrotem papier...</td>\n",
       "      <td>karze pozbawienia wolności do lat 3.</td>\n",
       "    </tr>\n",
       "    <tr>\n",
       "      <th>406</th>\n",
       "      <td>Kto puszcza w obieg podrobiony albo przerobion...</td>\n",
       "      <td>grzywnie, karze ograniczenia wolności albo poz...</td>\n",
       "    </tr>\n",
       "    <tr>\n",
       "      <th>407</th>\n",
       "      <td>§ 1. Kto, w celu użycia lub puszczenia w obieg...</td>\n",
       "      <td>karze pozbawienia wolności do lat 3.</td>\n",
       "    </tr>\n",
       "    <tr>\n",
       "      <th>408</th>\n",
       "      <td>Kto, w celu użycia w obrocie gospodarczym, pod...</td>\n",
       "      <td>grzywnie, karze ograniczenia wolności albo poz...</td>\n",
       "    </tr>\n",
       "    <tr>\n",
       "      <th>409</th>\n",
       "      <td>§ 1. Kto, w celu użycia w obrocie gospodarczym...</td>\n",
       "      <td>grzywnie, karze ograniczenia wolności albo poz...</td>\n",
       "    </tr>\n",
       "  </tbody>\n",
       "</table>\n",
       "<p>410 rows × 2 columns</p>\n",
       "</div>"
      ],
      "text/plain": [
       "                                                 crime  \\\n",
       "0     § 1. Kto wszczyna lub prowadzi wojnę napastniczą   \n",
       "1    3. Kto publicznie nawołuje do wszczęcia wojny ...   \n",
       "2    § 1. Kto, w celu wyniszczenia w całości albo w...   \n",
       "3    2. Kto, w celu określonym w § 1, stwarza dla o...   \n",
       "4    § 1. Kto, biorąc udział w masowym zamachu lub ...   \n",
       "..                                                 ...   \n",
       "405  Kto, w dokumentacji związanej z obrotem papier...   \n",
       "406  Kto puszcza w obieg podrobiony albo przerobion...   \n",
       "407  § 1. Kto, w celu użycia lub puszczenia w obieg...   \n",
       "408  Kto, w celu użycia w obrocie gospodarczym, pod...   \n",
       "409  § 1. Kto, w celu użycia w obrocie gospodarczym...   \n",
       "\n",
       "                                               penalty  \n",
       "0    karze pozbawienia wolności na czas nie krótszy...  \n",
       "1    karze pozbawienia wolności od 3 miesięcy do la...  \n",
       "2    karze pozbawienia wolności na czas nie krótszy...  \n",
       "3           karze pozbawienia wolności od lat 5 do 25.  \n",
       "4    karze pozbawienia wolności na czas nie krótszy...  \n",
       "..                                                 ...  \n",
       "405               karze pozbawienia wolności do lat 3.  \n",
       "406  grzywnie, karze ograniczenia wolności albo poz...  \n",
       "407               karze pozbawienia wolności do lat 3.  \n",
       "408  grzywnie, karze ograniczenia wolności albo poz...  \n",
       "409  grzywnie, karze ograniczenia wolności albo poz...  \n",
       "\n",
       "[410 rows x 2 columns]"
      ]
     },
     "execution_count": 77,
     "metadata": {},
     "output_type": "execute_result"
    }
   ],
   "source": [
    "df"
   ]
  },
  {
   "cell_type": "code",
   "execution_count": 79,
   "id": "9b339969-61ac-4d6f-b083-2c048593516b",
   "metadata": {
    "tags": []
   },
   "outputs": [],
   "source": [
    "# export to csv\n",
    "df.to_csv('criminal.csv', sep=';', encoding='utf-8-sig')"
   ]
  },
  {
   "cell_type": "code",
   "execution_count": 63,
   "id": "dae8ba51-6534-428e-8129-2f2c92934d86",
   "metadata": {},
   "outputs": [],
   "source": [
    "# df.to_csv('test.csv', sep = ';', encoding='utf-8-sig')"
   ]
  },
  {
   "cell_type": "code",
   "execution_count": null,
   "id": "b23f4680-c562-4b22-b1ed-f27ded92f076",
   "metadata": {},
   "outputs": [],
   "source": []
  }
 ],
 "metadata": {
  "kernelspec": {
   "display_name": "Python 3 (ipykernel)",
   "language": "python",
   "name": "python3"
  },
  "language_info": {
   "codemirror_mode": {
    "name": "ipython",
    "version": 3
   },
   "file_extension": ".py",
   "mimetype": "text/x-python",
   "name": "python",
   "nbconvert_exporter": "python",
   "pygments_lexer": "ipython3",
   "version": "3.11.5"
  }
 },
 "nbformat": 4,
 "nbformat_minor": 5
}

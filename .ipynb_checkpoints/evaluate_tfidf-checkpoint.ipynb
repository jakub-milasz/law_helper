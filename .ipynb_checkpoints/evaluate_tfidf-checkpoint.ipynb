{
 "cells": [
  {
   "cell_type": "code",
   "execution_count": 13,
   "id": "639679ad-5b77-4317-b057-12e181cb8372",
   "metadata": {
    "tags": []
   },
   "outputs": [],
   "source": [
    "import pandas as pd\n",
    "from sklearn.feature_extraction.text import TfidfVectorizer\n",
    "from sklearn.metrics.pairwise import cosine_similarity\n",
    "from stempel import StempelStemmer\n",
    "import re"
   ]
  },
  {
   "cell_type": "code",
   "execution_count": 14,
   "id": "4e1368c5-1b7b-4ffc-a402-c94782c4966d",
   "metadata": {
    "tags": []
   },
   "outputs": [],
   "source": [
    "dataset = pd.read_csv('criminal.csv')"
   ]
  },
  {
   "cell_type": "code",
   "execution_count": 23,
   "id": "a47f4dd0-a119-4565-9b7d-afb4b17ce4bf",
   "metadata": {
    "tags": []
   },
   "outputs": [],
   "source": [
    "def transform_text(text):\n",
    "    text = re.sub('[^a-zA-Z ]', '', text)\n",
    "    text = text.lower()\n",
    "    text = text.split()\n",
    "    ss = StempelStemmer.default()\n",
    "    text = [ss.stem(word) for word in text]\n",
    "    if None in text:\n",
    "        text.remove(None)\n",
    "    # print(text)\n",
    "    text = ' '.join(text)\n",
    "    return text"
   ]
  },
  {
   "cell_type": "code",
   "execution_count": 27,
   "id": "e29d6679-296f-4a2c-923f-42f103a63e1e",
   "metadata": {
    "tags": []
   },
   "outputs": [],
   "source": [
    "corpus = []\n",
    "for i in range(dataset.shape[0]):\n",
    "    art = transform_text(dataset['crime'][i])\n",
    "    corpus.append(art)"
   ]
  },
  {
   "cell_type": "code",
   "execution_count": 28,
   "id": "8ef23847-cae8-4443-b3c5-f655b73429cc",
   "metadata": {
    "tags": []
   },
   "outputs": [
    {
     "data": {
      "text/html": [
       "<div>\n",
       "<style scoped>\n",
       "    .dataframe tbody tr th:only-of-type {\n",
       "        vertical-align: middle;\n",
       "    }\n",
       "\n",
       "    .dataframe tbody tr th {\n",
       "        vertical-align: top;\n",
       "    }\n",
       "\n",
       "    .dataframe thead th {\n",
       "        text-align: right;\n",
       "    }\n",
       "</style>\n",
       "<table border=\"1\" class=\"dataframe\">\n",
       "  <thead>\n",
       "    <tr style=\"text-align: right;\">\n",
       "      <th></th>\n",
       "      <th>crime</th>\n",
       "    </tr>\n",
       "  </thead>\n",
       "  <tbody>\n",
       "    <tr>\n",
       "      <th>0</th>\n",
       "      <td>kto wszczyna lub prowadzić wojn napastniczpodl...</td>\n",
       "    </tr>\n",
       "    <tr>\n",
       "      <th>1</th>\n",
       "      <td>kto publiczny nawóuć do wszczcia wojny napastn...</td>\n",
       "    </tr>\n",
       "    <tr>\n",
       "      <th>2</th>\n",
       "      <td>kto w ć wyniszczeć w cao alć w czcić grupynaro...</td>\n",
       "    </tr>\n",
       "    <tr>\n",
       "      <th>3</th>\n",
       "      <td>kto w ć wyniszczeć w cao alć w czcić grupynaro...</td>\n",
       "    </tr>\n",
       "    <tr>\n",
       "      <th>4</th>\n",
       "      <td>kto biorc udzie w masowy zamach lub choby w je...</td>\n",
       "    </tr>\n",
       "    <tr>\n",
       "      <th>...</th>\n",
       "      <td>...</td>\n",
       "    </tr>\n",
       "    <tr>\n",
       "      <th>69</th>\n",
       "      <td>kto nieumylny powodować mier czowiek</td>\n",
       "    </tr>\n",
       "    <tr>\n",
       "      <th>70</th>\n",
       "      <td>kto powodować cik uszczerbka na zdrowie w post...</td>\n",
       "    </tr>\n",
       "    <tr>\n",
       "      <th>71</th>\n",
       "      <td>kto nakać inna osob do spowodować u on cikiego...</td>\n",
       "    </tr>\n",
       "    <tr>\n",
       "      <th>72</th>\n",
       "      <td>kto przemoc lub grob bezprawn zmuszać inna oso...</td>\n",
       "    </tr>\n",
       "    <tr>\n",
       "      <th>73</th>\n",
       "      <td>kto powodować naruszyć czynnocić narzd cia lub...</td>\n",
       "    </tr>\n",
       "  </tbody>\n",
       "</table>\n",
       "<p>74 rows × 1 columns</p>\n",
       "</div>"
      ],
      "text/plain": [
       "                                                crime\n",
       "0   kto wszczyna lub prowadzić wojn napastniczpodl...\n",
       "1   kto publiczny nawóuć do wszczcia wojny napastn...\n",
       "2   kto w ć wyniszczeć w cao alć w czcić grupynaro...\n",
       "3   kto w ć wyniszczeć w cao alć w czcić grupynaro...\n",
       "4   kto biorc udzie w masowy zamach lub choby w je...\n",
       "..                                                ...\n",
       "69               kto nieumylny powodować mier czowiek\n",
       "70  kto powodować cik uszczerbka na zdrowie w post...\n",
       "71  kto nakać inna osob do spowodować u on cikiego...\n",
       "72  kto przemoc lub grob bezprawn zmuszać inna oso...\n",
       "73  kto powodować naruszyć czynnocić narzd cia lub...\n",
       "\n",
       "[74 rows x 1 columns]"
      ]
     },
     "execution_count": 28,
     "metadata": {},
     "output_type": "execute_result"
    }
   ],
   "source": [
    "transformed_criminal = pd.DataFrame(corpus, columns=['crime'])\n",
    "transformed_criminal"
   ]
  },
  {
   "cell_type": "code",
   "execution_count": 24,
   "id": "b955058c-bbef-44a0-ab31-792dfa202d13",
   "metadata": {
    "tags": []
   },
   "outputs": [],
   "source": [
    "transformed_criminal = pd.DataFrame(corpus, columns=['crime'])\n",
    "transformed_criminal.to_csv('transformed.csv', sep=',')"
   ]
  },
  {
   "cell_type": "code",
   "execution_count": 25,
   "id": "2cf0bef4-20e1-461f-a20a-d1cd271318d9",
   "metadata": {
    "tags": []
   },
   "outputs": [],
   "source": [
    "def fit_crime(my_crime, data):\n",
    "    tfidf_vectorizer = TfidfVectorizer()\n",
    "    tfidf_matrix = tfidf_vectorizer.fit_transform(data)\n",
    "    crime_vector = tfidf_vectorizer.transform([my_crime])\n",
    "    similarity = cosine_similarity(crime_vector, tfidf_matrix)\n",
    "    print(similarity)\n",
    "    best_match_index = similarity.argsort()[0][-1]\n",
    "    return dataset.iloc[best_match_index]['article_number'], dataset.iloc[best_match_index]['crime'], dataset.iloc[best_match_index]['penalty']"
   ]
  },
  {
   "cell_type": "code",
   "execution_count": 26,
   "id": "d3317b42-63ce-4355-b568-9680fe7a18e3",
   "metadata": {},
   "outputs": [
    {
     "name": "stdout",
     "output_type": "stream",
     "text": [
      "zabijać czowiek\n",
      "[[0. 0. 0. 0. 0. 0. 0. 0. 0. 0. 0. 0. 0. 0. 0. 0. 0. 0. 0. 0. 0. 0. 0. 0.\n",
      "  0. 0. 0. 0. 0. 0. 0. 0. 0. 0. 0. 0. 0. 0. 0. 0. 0. 0. 0. 0. 0. 0. 0. 0.\n",
      "  0. 0. 0. 0. 0. 0. 0. 0. 0. 0. 0. 0. 0. 0. 0. 0. 0. 0. 0. 0. 0. 0. 0. 0.\n",
      "  0. 0.]]\n",
      "Dopasowane przestępstwo: § 1. Kto powoduje naruszenie czynności narządu ciała lub rozstrój\n",
      "zdrowia, inny niż: 1) pozbawienia człowieka wzroku, słuchu, mowy, zdolności płodzenia,\n",
      "2) innego ciężkiego kalectwa, ciężkiej choroby nieuleczalnej lub długotrwałej,\n",
      "choroby realnie zagrażającej życiu, trwałej choroby psychicznej, całkowitej albo\n",
      "znacznej trwałej niezdolności do pracy w zawodzie lub trwałego, istotnego\n",
      "zeszpecenia lub zniekształcenia ciała,\n",
      "3) wycięcia, infibulacji lub innego trwałego i istotnego okaleczenia żeńskiego\n",
      "narządu płciowego\n",
      "\n",
      "Grożąca kara: od 3 miesięcy do 5 lat\n"
     ]
    }
   ],
   "source": [
    "wykroczenie_input = \"zabijałem człowieka\"\n",
    "wykroczenie_input = transform_text(wykroczenie_input)\n",
    "print(wykroczenie_input)\n",
    "numer, opis, kara = fit_crime(wykroczenie_input, corpus)\n",
    "\n",
    "print(f\"Dopasowane przestępstwo: {opis}\")\n",
    "print(f\"Grożąca kara: {kara}\")"
   ]
  },
  {
   "cell_type": "code",
   "execution_count": null,
   "id": "a935c54f-927b-4261-bb37-39dd3ba778e3",
   "metadata": {},
   "outputs": [],
   "source": []
  }
 ],
 "metadata": {
  "kernelspec": {
   "display_name": "Python 3 (ipykernel)",
   "language": "python",
   "name": "python3"
  },
  "language_info": {
   "codemirror_mode": {
    "name": "ipython",
    "version": 3
   },
   "file_extension": ".py",
   "mimetype": "text/x-python",
   "name": "python",
   "nbconvert_exporter": "python",
   "pygments_lexer": "ipython3",
   "version": "3.11.5"
  }
 },
 "nbformat": 4,
 "nbformat_minor": 5
}

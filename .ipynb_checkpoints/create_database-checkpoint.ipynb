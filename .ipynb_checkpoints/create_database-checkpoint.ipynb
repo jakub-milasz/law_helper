{
 "cells": [
  {
   "cell_type": "code",
   "execution_count": 108,
   "id": "70c4ab81-1ec9-4032-9b8a-6edb4dd8000f",
   "metadata": {
    "tags": []
   },
   "outputs": [],
   "source": [
    "from selenium import webdriver\n",
    "from selenium.webdriver.common.by import By\n",
    "from selenium.webdriver.chrome.service import Service\n",
    "import pandas as pd\n",
    "import time\n",
    "import re\n",
    "import numpy as np"
   ]
  },
  {
   "cell_type": "markdown",
   "id": "7ccdc516-ca5c-4c03-8cda-e86bccfc05c2",
   "metadata": {},
   "source": [
    "# Kodeks karny"
   ]
  },
  {
   "cell_type": "code",
   "execution_count": 109,
   "id": "d356b27d-2987-4843-97a8-f414403024b5",
   "metadata": {
    "tags": []
   },
   "outputs": [],
   "source": [
    "path = r\"C:\\Users\\jakub\\Downloads\\chromedriver-win64\\chromedriver.exe\"\n",
    "service = Service(path)\n",
    "driver = webdriver.Chrome(service=service)\n",
    "driver.get(\"https://arslege.pl/kodeks-karny/k1/s193/\")\n",
    "time.sleep(5)\n",
    "div_elements = driver.find_elements(By.CLASS_NAME, \"art_tresc\")\n",
    "div_texts = [div.text for div in div_elements]\n",
    "driver.quit()"
   ]
  },
  {
   "cell_type": "code",
   "execution_count": 110,
   "id": "6ac00299-1e4d-4057-9b28-5850b74eed82",
   "metadata": {
    "tags": []
   },
   "outputs": [],
   "source": [
    "# split by regex\n",
    "parts = [re.split(r'\\npodlega |, podlega |\\n§ |\\n- podlega ', text) for text in div_texts]"
   ]
  },
  {
   "cell_type": "code",
   "execution_count": 111,
   "id": "906dad4c-c690-4726-b50a-96bcb762d9d9",
   "metadata": {
    "tags": []
   },
   "outputs": [],
   "source": [
    "# delete uchylony\n",
    "for part in parts:\n",
    "    for i in range(len(part)-1, -1, -1):\n",
    "        if '(uchylony)' in part[i]:\n",
    "            part.remove(part[i])"
   ]
  },
  {
   "cell_type": "code",
   "execution_count": 112,
   "id": "ead06b4a-1777-4bc0-9f6f-00db44892388",
   "metadata": {
    "tags": []
   },
   "outputs": [],
   "source": [
    "# podział na artykuły i kary\n",
    "penalties = []\n",
    "articles = []\n",
    "for part in parts:\n",
    "    for item in part:\n",
    "        if 'karze' in item:\n",
    "            penalties.append(item)\n",
    "        elif (item.endswith('.') == False) and (item != ''):\n",
    "            articles.append(item)"
   ]
  },
  {
   "cell_type": "code",
   "execution_count": 113,
   "id": "973f8aa6-12cb-4620-91f3-375874b936fb",
   "metadata": {
    "tags": []
   },
   "outputs": [],
   "source": [
    "for i in range(len(penalties) - 1, -1, -1):\n",
    "    if ('Tej samej karze' in penalties[i]) or ('Nie podlega karze' in penalties[i]) or ('Jeżeli' in penalties[i]):\n",
    "        penalties.remove(penalties[i])"
   ]
  },
  {
   "cell_type": "code",
   "execution_count": 114,
   "id": "5ec8addd-2163-44a8-b474-21738443d444",
   "metadata": {
    "tags": []
   },
   "outputs": [
    {
     "data": {
      "text/plain": [
       "410"
      ]
     },
     "execution_count": 114,
     "metadata": {},
     "output_type": "execute_result"
    }
   ],
   "source": [
    "len(penalties)"
   ]
  },
  {
   "cell_type": "code",
   "execution_count": 115,
   "id": "9bfa62f0-5592-4133-9a19-7deff2c5a31b",
   "metadata": {
    "tags": []
   },
   "outputs": [
    {
     "data": {
      "text/plain": [
       "410"
      ]
     },
     "execution_count": 115,
     "metadata": {},
     "output_type": "execute_result"
    }
   ],
   "source": [
    "len(articles)"
   ]
  },
  {
   "cell_type": "code",
   "execution_count": null,
   "id": "597b173c-78f1-411f-a42f-fe1893c758df",
   "metadata": {},
   "outputs": [],
   "source": [
    "# fill penalties to articles' size\n",
    "articles.extend([None] * (len(penalties)-len(articles)))\n",
    "dc = {\"crime\": articles, \"penalty\": penalties}\n",
    "df = pd.DataFrame(dc)"
   ]
  },
  {
   "cell_type": "code",
   "execution_count": null,
   "id": "29e82c0a-c6ec-40de-903d-88ff59890549",
   "metadata": {},
   "outputs": [],
   "source": [
    "df.to_csv('criminal.csv', sep=';', encoding='utf-8-sig')"
   ]
  },
  {
   "cell_type": "markdown",
   "id": "ca74a003-101c-44a1-8ae5-56621c54d851",
   "metadata": {},
   "source": [
    "# Kodeks wykroczeń"
   ]
  },
  {
   "cell_type": "code",
   "execution_count": 116,
   "id": "10f3957a-6765-48e2-924a-5bc3ad77c975",
   "metadata": {
    "tags": []
   },
   "outputs": [],
   "source": [
    "path = r\"C:\\Users\\jakub\\Downloads\\chromedriver-win64\\chromedriver.exe\"\n",
    "service = Service(path)\n",
    "driver = webdriver.Chrome(service=service)\n",
    "driver.get(\"https://arslege.pl/kodeks-wykroczen/k11/s446/\")\n",
    "time.sleep(5)\n",
    "div_elements = driver.find_elements(By.CLASS_NAME, \"art_tresc\")\n",
    "div_texts = [div.text for div in div_elements]\n",
    "driver.quit()"
   ]
  },
  {
   "cell_type": "code",
   "execution_count": 117,
   "id": "d64bf4e8-88f0-4323-b4ac-63ff8c53da2c",
   "metadata": {
    "tags": []
   },
   "outputs": [],
   "source": [
    "# split by regex\n",
    "parts = [re.split(r'\\npodlega |, podlega |\\n§ |\\n- podlega |\\n-podlega |\\n– podlega ', text) for text in div_texts]"
   ]
  },
  {
   "cell_type": "code",
   "execution_count": 118,
   "id": "6d33a8a5-10e6-4b51-9b74-a860cbc45fe1",
   "metadata": {
    "tags": []
   },
   "outputs": [],
   "source": [
    "# delete uchylony\n",
    "for part in parts:\n",
    "    for i in range(len(part)-1, -1, -1):\n",
    "        if '. (uchylony)' in part[i]:\n",
    "            part.remove(part[i])"
   ]
  },
  {
   "cell_type": "code",
   "execution_count": 119,
   "id": "385d6d79-9f11-4324-adfd-5035af7406b5",
   "metadata": {
    "tags": []
   },
   "outputs": [],
   "source": [
    "# podział na artykuły i kary\n",
    "for part in parts:\n",
    "    for item in part:\n",
    "        if 'karze' in item:\n",
    "            penalties.append(item)\n",
    "        elif (item.endswith('.') == False) and (item != ''):\n",
    "            articles.append(item)"
   ]
  },
  {
   "cell_type": "code",
   "execution_count": 120,
   "id": "d26c3dd8-0bc3-479c-a023-610a0875c02c",
   "metadata": {
    "tags": []
   },
   "outputs": [],
   "source": [
    "for i in range(len(penalties) - 1, -1, -1):\n",
    "    if ('Tej samej karze' in penalties[i]) or ('Nie podlega karze' in penalties[i]) or ('Jeżeli' in penalties[i]):\n",
    "        penalties.remove(penalties[i])"
   ]
  },
  {
   "cell_type": "code",
   "execution_count": 121,
   "id": "22873747-62a1-48b3-83be-ee382d068ac0",
   "metadata": {
    "tags": []
   },
   "outputs": [
    {
     "data": {
      "text/plain": [
       "593"
      ]
     },
     "execution_count": 121,
     "metadata": {},
     "output_type": "execute_result"
    }
   ],
   "source": [
    "len(penalties)"
   ]
  },
  {
   "cell_type": "code",
   "execution_count": 122,
   "id": "2f5d2833-7413-422d-b19a-ae8852e74ca5",
   "metadata": {
    "tags": []
   },
   "outputs": [
    {
     "data": {
      "text/plain": [
       "591"
      ]
     },
     "execution_count": 122,
     "metadata": {},
     "output_type": "execute_result"
    }
   ],
   "source": [
    "len(articles)"
   ]
  },
  {
   "cell_type": "code",
   "execution_count": 124,
   "id": "0c3fe100-27d6-4d3d-8402-7b17e0d31b0b",
   "metadata": {
    "tags": []
   },
   "outputs": [],
   "source": [
    "# fill penalties to articles' size\n",
    "articles.extend([None] * (len(penalties)-len(articles)))\n",
    "dc = {\"crime\": articles, \"penalty\": penalties}\n",
    "df = pd.DataFrame(dc)"
   ]
  },
  {
   "cell_type": "code",
   "execution_count": null,
   "id": "5f978375-1b35-45d9-9b9e-5c6cf04181ac",
   "metadata": {},
   "outputs": [],
   "source": [
    "df.to_csv('database.csv', sep=';', encoding='utf-8-sig')"
   ]
  },
  {
   "cell_type": "markdown",
   "id": "96cc4576-ca4e-4505-a8ac-2984725df1a8",
   "metadata": {},
   "source": [
    "# Concatenate tables"
   ]
  },
  {
   "cell_type": "code",
   "execution_count": 104,
   "id": "8ef14763-e2c4-49a1-bf12-113dc7a0f21b",
   "metadata": {
    "tags": []
   },
   "outputs": [],
   "source": [
    "df1 = pd.read_csv('criminal.csv', sep=';')"
   ]
  },
  {
   "cell_type": "code",
   "execution_count": 105,
   "id": "55b282cb-8c4f-46ee-8e04-0a7c3222ec87",
   "metadata": {
    "tags": []
   },
   "outputs": [],
   "source": [
    "df2 = pd.read_csv('offense.csv', sep=';', header=None)"
   ]
  },
  {
   "cell_type": "code",
   "execution_count": 106,
   "id": "6415a31a-0e02-45b6-b951-02343696e34f",
   "metadata": {
    "tags": []
   },
   "outputs": [],
   "source": [
    "database = pd.concat([df1, df2])"
   ]
  },
  {
   "cell_type": "code",
   "execution_count": 107,
   "id": "11824a59-200e-42aa-9547-ea83574e5caf",
   "metadata": {
    "tags": []
   },
   "outputs": [],
   "source": [
    "database.to_csv('database.csv', sep=';', encoding='utf-8-sig')"
   ]
  }
 ],
 "metadata": {
  "kernelspec": {
   "display_name": "Python 3 (ipykernel)",
   "language": "python",
   "name": "python3"
  },
  "language_info": {
   "codemirror_mode": {
    "name": "ipython",
    "version": 3
   },
   "file_extension": ".py",
   "mimetype": "text/x-python",
   "name": "python",
   "nbconvert_exporter": "python",
   "pygments_lexer": "ipython3",
   "version": "3.11.5"
  }
 },
 "nbformat": 4,
 "nbformat_minor": 5
}
